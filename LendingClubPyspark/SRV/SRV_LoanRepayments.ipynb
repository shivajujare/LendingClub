{
 "cells": [
  {
   "cell_type": "code",
   "execution_count": null,
   "id": "d09100ae",
   "metadata": {},
   "outputs": [],
   "source": [
    "lnrp_srv_path = f'/user/{user_name}/lendingClub/srv/{date}/loan_repayments/'\n",
    "print(lnrp_srv_path)"
   ]
  },
  {
   "cell_type": "code",
   "execution_count": null,
   "id": "5759cc24",
   "metadata": {},
   "outputs": [],
   "source": [
    "ln_rpms = rawDF \\\n",
    "            .select(col(\"id\").alias(\"loan_id\"),\n",
    "                    \"total_rec_prncp\",\n",
    "                    \"total_rec_int\",\n",
    "                    \"total_rec_late_fee\",\n",
    "                    \"total_pymnt\",\n",
    "                    \"last_pymnt_amnt\",\n",
    "                    \"last_pymnt_d\",\n",
    "                    \"next_pymnt_d\"\n",
    "                   ) \\\n",
    "            .distinct()"
   ]
  },
  {
   "cell_type": "code",
   "execution_count": null,
   "id": "c78468be",
   "metadata": {},
   "outputs": [],
   "source": [
    "ln_rpms.repartition(1) \\\n",
    "        .write \\\n",
    "        .format(\"csv\") \\\n",
    "        .option(\"header\", True) \\\n",
    "        .option(\"path\",lnrp_srv_path ) \\\n",
    "        .mode(\"overwrite\") \\\n",
    "        .save()"
   ]
  },
  {
   "cell_type": "code",
   "execution_count": null,
   "id": "eb832a86",
   "metadata": {},
   "outputs": [],
   "source": [
    "lnrp_count = ln_rpms.count()\n",
    "addLog(\"ingested loan_repayments file with \" + str(lnrp_count) + \" records in SRV\")"
   ]
  },
  {
   "cell_type": "code",
   "execution_count": null,
   "id": "3ba9f8fc",
   "metadata": {},
   "outputs": [],
   "source": [
    "lnrp_stat = \"Success\""
   ]
  }
 ],
 "metadata": {
  "kernelspec": {
   "display_name": "Pyspark 3",
   "language": "python",
   "name": "pyspark3"
  },
  "language_info": {
   "codemirror_mode": {
    "name": "ipython",
    "version": 3
   },
   "file_extension": ".py",
   "mimetype": "text/x-python",
   "name": "python",
   "nbconvert_exporter": "python",
   "pygments_lexer": "ipython3",
   "version": "3.6.12"
  }
 },
 "nbformat": 4,
 "nbformat_minor": 5
}
