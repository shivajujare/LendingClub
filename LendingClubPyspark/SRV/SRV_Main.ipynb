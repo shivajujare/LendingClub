{
 "cells": [
  {
   "cell_type": "code",
   "execution_count": 48,
   "id": "a13519b2",
   "metadata": {},
   "outputs": [],
   "source": [
    "from pyspark.sql import SparkSession\n",
    "import getpass\n",
    "from pyspark.sql.functions import col, sha2, concat_ws\n",
    "\n",
    "\n",
    "user_name = getpass.getuser()\n",
    "\n",
    "spark = SparkSession.builder \\\n",
    "        .config('spark.ui.port',0) \\\n",
    "        .config('spark.sql.warehouse.dir', f\"/user/{user_name}/warehouse\") \\\n",
    "        .config('spark.shuffle.useOldFetchProtocol', 'true') \\\n",
    "        .enableHiveSupport() \\\n",
    "        .master('yarn') \\\n",
    "        .appName('SRV_Main') \\\n",
    "        .getOrCreate()"
   ]
  },
  {
   "cell_type": "code",
   "execution_count": 49,
   "id": "1b98beaf",
   "metadata": {},
   "outputs": [
    {
     "name": "stdout",
     "output_type": "stream",
     "text": [
      "/home/itv004483/Reporting/report_2024-01-07_22:08:08.txt\n",
      "2024-01-07\n"
     ]
    }
   ],
   "source": [
    "%run \"/home/itv004483/Reporting.ipynb\"\n",
    "logpath = f\"/home/{user_name}/Reporting/SRV/report_{dts}.txt\"\n",
    "raw_path = '/public/trendytech/datasets/accepted_2007_to_2018Q4.csv'"
   ]
  },
  {
   "cell_type": "code",
   "execution_count": 38,
   "id": "3cf52143",
   "metadata": {},
   "outputs": [],
   "source": [
    "addLog(f\"Job executed by user - {user_name}\")\n",
    "addLog(\"Job Started at : \"+str(dts))\n",
    "addLog(\"\")"
   ]
  },
  {
   "cell_type": "code",
   "execution_count": 39,
   "id": "4f055ff7",
   "metadata": {},
   "outputs": [],
   "source": [
    "addSparkOptions(spark)"
   ]
  },
  {
   "cell_type": "code",
   "execution_count": 51,
   "id": "fc7f6d9a",
   "metadata": {},
   "outputs": [
    {
     "name": "stdout",
     "output_type": "stream",
     "text": [
      "+--------------------+\n",
      "|           name_sha2|\n",
      "+--------------------+\n",
      "|6d5091b3fcaaeb4ea...|\n",
      "|b5e7938b0a2da4cea...|\n",
      "|91060b858433e8a61...|\n",
      "|cab1fa9f533688b0a...|\n",
      "|f74e401c1ab0adf78...|\n",
      "|8aef4bb29d609d8d6...|\n",
      "|538b4653da3b1e814...|\n",
      "|b24d55f21390533c5...|\n",
      "|1035c5401b0ca76d0...|\n",
      "|cb0f1777593e77909...|\n",
      "|a962f4d59caec5fa1...|\n",
      "|e7592ab57b3afd9f1...|\n",
      "|603afa9d1be879b7b...|\n",
      "|9fe2d59ddf2a4f37e...|\n",
      "|23857480ccf555ce4...|\n",
      "|7c69d5f36fdabf6e1...|\n",
      "|08bf9e080503b0113...|\n",
      "|1cafb05aa6c894c30...|\n",
      "|f2c4010f700d8c9c4...|\n",
      "|05ad4aed7c393035e...|\n",
      "+--------------------+\n",
      "only showing top 20 rows\n",
      "\n"
     ]
    }
   ],
   "source": [
    "DF = spark.read \\\n",
    "        .format(\"csv\") \\\n",
    "        .option(\"header\",\"true\") \\\n",
    "        .option(\"path\",raw_path) \\\n",
    "        .load()\n",
    "\n",
    "rawDF = DF.withColumn(\"name_sha2\", sha2(concat_ws('||',*['emp_title','emp_length','home_ownership','annual_inc','zip_code','addr_state','grade','sub_grade','verification_status'])\n",
    "                                        ,256))"
   ]
  },
  {
   "cell_type": "code",
   "execution_count": 52,
   "id": "caa34324",
   "metadata": {},
   "outputs": [
    {
     "name": "stdout",
     "output_type": "stream",
     "text": [
      "SRV Customers completed successfully\n"
     ]
    }
   ],
   "source": [
    "#run customers srv\n",
    "%run \"/home/itv004483/LendingClub/SRV/SRV_Customers.ipynb\"\n",
    "srv_cust_stat = cust_stat\n",
    "if(srv_cust_stat == \"Success\"):\n",
    "    print(\"SRV Customers completed successfully\")\n",
    "else:\n",
    "    print(\"SRV Customers failed\")"
   ]
  },
  {
   "cell_type": "code",
   "execution_count": 42,
   "id": "aaf2d91e",
   "metadata": {},
   "outputs": [
    {
     "name": "stdout",
     "output_type": "stream",
     "text": [
      "/user/itv004483/lendingClub/srv/2024-01-07/loans/\n",
      "SRV Loans completed successfully\n"
     ]
    }
   ],
   "source": [
    "#run Loans srv\n",
    "%run \"/home/itv004483/LendingClub/SRV/SRV_Loans.ipynb\"\n",
    "srv_loans_stat = loans_stat\n",
    "if(srv_loans_stat == \"Success\"):\n",
    "    print(\"SRV Loans completed successfully\")\n",
    "else:\n",
    "    print(\"SRV Loans failed\")"
   ]
  },
  {
   "cell_type": "code",
   "execution_count": 43,
   "id": "8144914b",
   "metadata": {},
   "outputs": [
    {
     "name": "stdout",
     "output_type": "stream",
     "text": [
      "/user/itv004483/lendingClub/srv/2024-01-07/loan_repayments/\n",
      "SRV loan_repayments completed successfully\n"
     ]
    }
   ],
   "source": [
    "#run loan_repayments srv\n",
    "%run \"/home/itv004483/LendingClub/SRV/SRV_LoanRepayments.ipynb\"\n",
    "srv_loans_rp_stat = lnrp_stat\n",
    "if(srv_loans_rp_stat == \"Success\"):\n",
    "    print(\"SRV loan_repayments completed successfully\")\n",
    "else:\n",
    "    print(\"SRV loan_repayments failed\")"
   ]
  },
  {
   "cell_type": "code",
   "execution_count": 53,
   "id": "6e24474d",
   "metadata": {},
   "outputs": [
    {
     "name": "stdout",
     "output_type": "stream",
     "text": [
      "/user/itv004483/lendingClub/srv/2024-01-07/loan_defaulters/\n",
      "SRV loan_defaulters completed successfully\n"
     ]
    }
   ],
   "source": [
    "#run loan defaulters srv\n",
    "%run \"/home/itv004483/LendingClub/SRV/SRV_LoanDefaulters.ipynb\"\n",
    "srv_loans_df_stat = lndf_stat\n",
    "if(srv_loans_df_stat == \"Success\"):\n",
    "    print(\"SRV loan_defaulters completed successfully\")\n",
    "else:\n",
    "    print(\"SRV loan_defaulters failed\")"
   ]
  },
  {
   "cell_type": "code",
   "execution_count": 45,
   "id": "ee049b51",
   "metadata": {},
   "outputs": [],
   "source": [
    "endtime = dt.datetime.now().strftime('%Y-%m-%d_%H:%M:%S')\n",
    "addLog(\"\")\n",
    "addLog(\"Job end time \" + str(endtime))\n",
    "addLog(\"\")\n"
   ]
  },
  {
   "cell_type": "code",
   "execution_count": 46,
   "id": "abef1a90",
   "metadata": {},
   "outputs": [],
   "source": [
    "saveLog(logpath,logs)\n"
   ]
  },
  {
   "cell_type": "code",
   "execution_count": 54,
   "id": "06407801",
   "metadata": {},
   "outputs": [],
   "source": [
    "spark.stop()"
   ]
  },
  {
   "cell_type": "code",
   "execution_count": null,
   "id": "d51c8028",
   "metadata": {},
   "outputs": [],
   "source": []
  },
  {
   "cell_type": "code",
   "execution_count": null,
   "id": "a2212e15",
   "metadata": {},
   "outputs": [],
   "source": []
  }
 ],
 "metadata": {
  "kernelspec": {
   "display_name": "Pyspark 3",
   "language": "python",
   "name": "pyspark3"
  },
  "language_info": {
   "codemirror_mode": {
    "name": "ipython",
    "version": 3
   },
   "file_extension": ".py",
   "mimetype": "text/x-python",
   "name": "python",
   "nbconvert_exporter": "python",
   "pygments_lexer": "ipython3",
   "version": "3.6.12"
  }
 },
 "nbformat": 4,
 "nbformat_minor": 5
}
