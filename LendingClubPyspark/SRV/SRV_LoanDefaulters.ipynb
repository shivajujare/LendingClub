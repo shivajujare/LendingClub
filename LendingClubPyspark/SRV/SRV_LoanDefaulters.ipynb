{
 "cells": [
  {
   "cell_type": "code",
   "execution_count": null,
   "id": "5c96fa33",
   "metadata": {},
   "outputs": [],
   "source": [
    "lndef_srv_path = f'/user/{user_name}/lendingClub/srv/{date}/loan_defaulters/'\n",
    "print(lndef_srv_path)"
   ]
  },
  {
   "cell_type": "code",
   "execution_count": null,
   "id": "a9c331e9",
   "metadata": {},
   "outputs": [],
   "source": [
    "ln_def = rawDF \\\n",
    "         .select(\n",
    "                    col(\"name_sha2\").alias(\"member_id\")\n",
    "                    ,\"delinq_2yrs\"\n",
    "                    ,\"delinq_amnt\"\n",
    "                    ,\"pub_rec\",\"pub_rec_bankruptcies\",\"inq_last_6mths\",\"total_rec_late_fee\"\n",
    "                    ,\"mths_since_last_delinq\",\"mths_since_last_record\"\n",
    "                ) \\\n",
    "        .distinct()"
   ]
  },
  {
   "cell_type": "code",
   "execution_count": null,
   "id": "2268c453",
   "metadata": {},
   "outputs": [],
   "source": [
    "ln_def.repartition(1) \\\n",
    "        .write \\\n",
    "        .option(\"header\",True) \\\n",
    "        .format(\"csv\") \\\n",
    "        .option(\"path\",lndef_srv_path) \\\n",
    "        .mode(\"overwrite\") \\\n",
    "        .save()"
   ]
  },
  {
   "cell_type": "code",
   "execution_count": null,
   "id": "73d91317",
   "metadata": {},
   "outputs": [],
   "source": [
    "lndf_count = ln_def.count()\n",
    "addLog(\"ingested loan_defaulters file with \" + str(lndf_count) + \" records in SRV\")"
   ]
  },
  {
   "cell_type": "code",
   "execution_count": null,
   "id": "36f6a19c",
   "metadata": {},
   "outputs": [],
   "source": [
    "lndf_stat = \"Success\""
   ]
  }
 ],
 "metadata": {
  "kernelspec": {
   "display_name": "Pyspark 3",
   "language": "python",
   "name": "pyspark3"
  },
  "language_info": {
   "codemirror_mode": {
    "name": "ipython",
    "version": 3
   },
   "file_extension": ".py",
   "mimetype": "text/x-python",
   "name": "python",
   "nbconvert_exporter": "python",
   "pygments_lexer": "ipython3",
   "version": "3.6.12"
  }
 },
 "nbformat": 4,
 "nbformat_minor": 5
}
