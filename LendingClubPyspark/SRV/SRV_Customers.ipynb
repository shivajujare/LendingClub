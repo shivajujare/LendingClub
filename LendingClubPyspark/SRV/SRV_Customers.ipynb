{
 "cells": [
  {
   "cell_type": "code",
   "execution_count": 40,
   "id": "7c5bb3e2",
   "metadata": {},
   "outputs": [],
   "source": [
    "#from pyspark.sql import SparkSession\n",
    "#import getpass\n",
    "\n",
    "\n",
    "#user_name = getpass.getuser()\n",
    "\n",
    "#spark = SparkSession.builder \\\n",
    " #       .config('spark.ui.port',0) \\\n",
    "  #      .config('spark.sql.warehouse.dir', f\"/user/{user_name}/warehouse\") \\\n",
    "   #     .enableHiveSupport() \\\n",
    "    #    .master('yarn') \\\n",
    "     #   .getOrCreate()"
   ]
  },
  {
   "cell_type": "code",
   "execution_count": 43,
   "id": "2e4b4cb2",
   "metadata": {},
   "outputs": [
    {
     "name": "stdout",
     "output_type": "stream",
     "text": [
      "/home/itv004483/Reporting/report_2024-01-04_21:40:52.txt\n",
      "2024-01-04\n"
     ]
    }
   ],
   "source": [
    "#%run \"/home/itv004483/Reporting.ipynb\"\n",
    "#logpath = f\"/home/itv004483/Reporting/SRV/report_{dts}.txt\""
   ]
  },
  {
   "cell_type": "code",
   "execution_count": 44,
   "id": "8ec596d1",
   "metadata": {},
   "outputs": [],
   "source": [
    "#print(filepath)\n",
    "#addLog(\"Job Started at : \"+str(dts))\n",
    "#addLog(\"\")"
   ]
  },
  {
   "cell_type": "code",
   "execution_count": 45,
   "id": "f68ec71c",
   "metadata": {},
   "outputs": [],
   "source": [
    "#raw_path = '/public/trendytech/datasets/accepted_2007_to_2018Q4.csv'\n",
    "srv_path = f'/user/{user_name}/lendingClub/srv/{date}/customers/'\n",
    "#print(srv_path)\n",
    "\n"
   ]
  },
  {
   "cell_type": "code",
   "execution_count": 46,
   "id": "124e5bac",
   "metadata": {},
   "outputs": [],
   "source": [
    "#rawDF = spark.read \\\n",
    "#        .format(\"csv\") \\\n",
    "#        .option(\"header\",\"true\") \\\n",
    "#        .option(\"path\",raw_path) \\\n",
    "#        .load()"
   ]
  },
  {
   "cell_type": "code",
   "execution_count": 47,
   "id": "91a97e1f",
   "metadata": {},
   "outputs": [],
   "source": [
    "from pyspark.sql.functions import sha2, concat_ws, col, lit, current_date"
   ]
  },
  {
   "cell_type": "code",
   "execution_count": 48,
   "id": "5db6300e",
   "metadata": {},
   "outputs": [],
   "source": []
  },
  {
   "cell_type": "code",
   "execution_count": 49,
   "id": "30331e8d",
   "metadata": {},
   "outputs": [],
   "source": [
    "custDF = rawDF \\\n",
    "            .select(col(\"name_sha2\").alias(\"member_id\"),\n",
    "                    \"emp_title\",\n",
    "                    \"emp_length\",\n",
    "                    \"home_ownership\",\n",
    "                    \"annual_inc\",\n",
    "                    \"addr_state\",\n",
    "                    \"zip_code\",\n",
    "                    \"grade\",\n",
    "                    \"sub_grade\",\n",
    "                    \"verification_status\",\n",
    "                    \"tot_hi_cred_lim\",\n",
    "                    \"application_type\",\n",
    "                    \"annual_inc_joint\",\n",
    "                    \"verification_status_joint\"\n",
    "                   ) \\\n",
    "            .withColumn(\"country\",lit('USA'))"
   ]
  },
  {
   "cell_type": "code",
   "execution_count": 50,
   "id": "c42d7551",
   "metadata": {},
   "outputs": [],
   "source": [
    "custDF.repartition(1) \\\n",
    "        .write \\\n",
    "        .mode(\"overwrite\") \\\n",
    "        .option(\"header\",True) \\\n",
    "        .format(\"csv\") \\\n",
    "        .option(\"path\", srv_path) \\\n",
    "        .save()"
   ]
  },
  {
   "cell_type": "code",
   "execution_count": 51,
   "id": "54dbe4c6",
   "metadata": {},
   "outputs": [],
   "source": [
    "count = custDF.count()\n",
    "addLog(\"ingested customers file with \" + str(count) + \" records in SRV\")"
   ]
  },
  {
   "cell_type": "code",
   "execution_count": 52,
   "id": "d882b2b5",
   "metadata": {},
   "outputs": [],
   "source": []
  },
  {
   "cell_type": "code",
   "execution_count": 53,
   "id": "134f62b0",
   "metadata": {},
   "outputs": [],
   "source": [
    "cust_stat = \"Success\""
   ]
  },
  {
   "cell_type": "code",
   "execution_count": 54,
   "id": "96dd8411",
   "metadata": {},
   "outputs": [],
   "source": []
  },
  {
   "cell_type": "code",
   "execution_count": null,
   "id": "b4a1e575",
   "metadata": {},
   "outputs": [],
   "source": []
  }
 ],
 "metadata": {
  "kernelspec": {
   "display_name": "Pyspark 3",
   "language": "python",
   "name": "pyspark3"
  },
  "language_info": {
   "codemirror_mode": {
    "name": "ipython",
    "version": 3
   },
   "file_extension": ".py",
   "mimetype": "text/x-python",
   "name": "python",
   "nbconvert_exporter": "python",
   "pygments_lexer": "ipython3",
   "version": "3.6.12"
  }
 },
 "nbformat": 4,
 "nbformat_minor": 5
}
