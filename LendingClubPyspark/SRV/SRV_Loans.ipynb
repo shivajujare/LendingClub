{
 "cells": [
  {
   "cell_type": "code",
   "execution_count": 1,
   "id": "9138ca1a",
   "metadata": {},
   "outputs": [],
   "source": [
    "srv_path = f'/user/{user_name}/lendingClub/srv/{date}/loans/'\n",
    "print(srv_path)"
   ]
  },
  {
   "cell_type": "code",
   "execution_count": 2,
   "id": "0bf1fefa",
   "metadata": {},
   "outputs": [
    {
     "name": "stdout",
     "output_type": "stream",
     "text": [
      "/home/itv004483/Reporting/report_2024-01-06_00:44:22.txt\n",
      "2024-01-06\n"
     ]
    }
   ],
   "source": [
    "loans_DF = rawDF.select(col(\"id\").alias(\"loan_id\"),col(\"name_sha2\").alias(\"member_id\"),\"loan_amnt\",\"funded_amnt\",\"term\",\"int_rate\",\"installment\",\"issue_d\",\"Loan_status\",\"purpose\",\"title\") \\\n",
    "                .distinct()"
   ]
  },
  {
   "cell_type": "code",
   "execution_count": null,
   "id": "2c77dd88",
   "metadata": {},
   "outputs": [],
   "source": [
    "loans_DF.repartition(1) \\\n",
    "        .write \\\n",
    "        .format(\"csv\") \\\n",
    "        .mode(\"overwrite\") \\\n",
    "         .option(\"header\",True) \\\n",
    "        .option(\"path\",srv_path) \\\n",
    "        .save()\n"
   ]
  },
  {
   "cell_type": "code",
   "execution_count": null,
   "id": "08672bd5",
   "metadata": {},
   "outputs": [],
   "source": [
    "loans_count = loans_DF.count()"
   ]
  },
  {
   "cell_type": "code",
   "execution_count": 3,
   "id": "9c1a3139",
   "metadata": {},
   "outputs": [
    {
     "name": "stdout",
     "output_type": "stream",
     "text": [
      "/user/itv004483/lendingClub/srv/2024-01-06/loans/\n"
     ]
    }
   ],
   "source": [
    "addLog(\"ingested loans file with \" + str(loans_count) + \" records in SRV\")"
   ]
  },
  {
   "cell_type": "code",
   "execution_count": 4,
   "id": "54d7f805",
   "metadata": {},
   "outputs": [],
   "source": [
    "loans_stat = \"Success\""
   ]
  },
  {
   "cell_type": "code",
   "execution_count": null,
   "id": "e46f12d3",
   "metadata": {},
   "outputs": [],
   "source": []
  }
 ],
 "metadata": {
  "kernelspec": {
   "display_name": "Pyspark 3",
   "language": "python",
   "name": "pyspark3"
  },
  "language_info": {
   "codemirror_mode": {
    "name": "ipython",
    "version": 3
   },
   "file_extension": ".py",
   "mimetype": "text/x-python",
   "name": "python",
   "nbconvert_exporter": "python",
   "pygments_lexer": "ipython3",
   "version": "3.6.12"
  }
 },
 "nbformat": 4,
 "nbformat_minor": 5
}
