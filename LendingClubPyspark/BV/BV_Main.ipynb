{
 "cells": [
  {
   "cell_type": "code",
   "execution_count": 2,
   "id": "ea1a8c09",
   "metadata": {},
   "outputs": [],
   "source": [
    "from pyspark.sql import SparkSession\n",
    "import getpass\n",
    "from pyspark.sql.functions import col, sha2, concat_ws, current_timestamp,regexp_replace, avg,when, length\n",
    "import datetime as dt\n",
    "\n",
    "\n",
    "user_name = getpass.getuser()\n",
    "\n",
    "spark = SparkSession.builder \\\n",
    "        .config('spark.ui.port',0) \\\n",
    "        .config('spark.sql.warehouse.dir', f\"/user/{user_name}/warehouse\") \\\n",
    "        .config('spark.shuffle.useOldFetchProtocol', 'true') \\\n",
    "        .enableHiveSupport() \\\n",
    "        .master('yarn') \\\n",
    "        .appName('BV_Main') \\\n",
    "        .getOrCreate()"
   ]
  },
  {
   "cell_type": "code",
   "execution_count": 3,
   "id": "74c82988",
   "metadata": {},
   "outputs": [
    {
     "name": "stdout",
     "output_type": "stream",
     "text": [
      "/home/itv004483/Reporting/report_2024-01-10_23:33:57.txt\n",
      "2024-01-10\n"
     ]
    }
   ],
   "source": [
    "%run \"/home/itv004483/Reporting.ipynb\"\n",
    "logpath = f\"/home/{user_name}/Reporting/BV/report_{dts}.txt\""
   ]
  },
  {
   "cell_type": "code",
   "execution_count": 21,
   "id": "85bc47e1",
   "metadata": {},
   "outputs": [],
   "source": [
    "addLog(f\"Job executed by user - {user_name}\")\n",
    "addLog(\"Job Started at : \"+str(dts))\n",
    "addLog(\"\")"
   ]
  },
  {
   "cell_type": "code",
   "execution_count": 22,
   "id": "2b665cc8",
   "metadata": {},
   "outputs": [],
   "source": [
    "addSparkOptions(spark)"
   ]
  },
  {
   "cell_type": "code",
   "execution_count": 23,
   "id": "a5878da7",
   "metadata": {},
   "outputs": [
    {
     "name": "stdout",
     "output_type": "stream",
     "text": [
      "2024-01-10\n",
      "/user/itv004483/lendingClub/srv/2024-01-07/customers/\n",
      "/user/itv004483/lendingClub/bv/csv/customers/\n",
      "/user/itv004483/lendingClub/bv/parquet/customers\n",
      "BV Customers completed successfully\n"
     ]
    }
   ],
   "source": [
    "#run customers bv\n",
    "\n",
    "%run \"/home/itv004483/LendingClub/BV/BV_Customers.ipynb\"\n",
    "\n",
    "bv_cust_stat = cust_stat\n",
    "if(bv_cust_stat == \"Success\"):\n",
    "    print(\"BV Customers completed successfully\")\n",
    "else:\n",
    "    print(\"BV Customers failed\")"
   ]
  },
  {
   "cell_type": "code",
   "execution_count": 24,
   "id": "c97e3a64",
   "metadata": {},
   "outputs": [
    {
     "name": "stdout",
     "output_type": "stream",
     "text": [
      "2024-01-10\n",
      "/user/itv004483/lendingClub/srv/2024-01-07/loans/\n",
      "/user/itv004483/lendingClub/bv/csv/loans/\n",
      "/user/itv004483/lendingClub/bv/parquet/loans/\n",
      "BV Loans completed successfully\n"
     ]
    }
   ],
   "source": [
    "#run loans bv\n",
    "\n",
    "%run \"/home/itv004483/LendingClub/BV/BV_Loans.ipynb\"\n",
    "\n",
    "bv_loans_stat =loans_stat_bv\n",
    "if(bv_loans_stat == \"Success\"):\n",
    "    print(\"BV Loans completed successfully\")\n",
    "else:\n",
    "    print(\"BV Loans failed\")"
   ]
  },
  {
   "cell_type": "code",
   "execution_count": 26,
   "id": "1b172033",
   "metadata": {},
   "outputs": [
    {
     "name": "stdout",
     "output_type": "stream",
     "text": [
      "2024-01-10\n",
      "/user/itv004483/lendingClub/srv/2024-01-07/loan_repayments/\n",
      "/user/itv004483/lendingClub/bv/csv/loan_repayments/\n",
      "/user/itv004483/lendingClub/bv/parquet/loan_repayments\n",
      "BV Loan Repayments completed successfully\n"
     ]
    }
   ],
   "source": [
    "#run loan repayments bv\n",
    "\n",
    "%run \"/home/itv004483/LendingClub/BV/BV_LoanRepayments.ipynb\"\n",
    "\n",
    "bv_lnrp_stat = bv_lrp_stat\n",
    "if(bv_lnrp_stat == \"Success\"):\n",
    "    print(\"BV Loan Repayments completed successfully\")\n",
    "else:\n",
    "    print(\"BV Loan Repayments failed\")"
   ]
  },
  {
   "cell_type": "code",
   "execution_count": 4,
   "id": "6ef42dfc",
   "metadata": {},
   "outputs": [
    {
     "name": "stdout",
     "output_type": "stream",
     "text": [
      "2024-01-10\n",
      "/user/itv004483/lendingClub/srv/2024-01-07/loan_defaulters/\n",
      "/user/itv004483/lendingClub/bv/csv/loan_defaulters_delinq/\n",
      "/user/itv004483/lendingClub/bv/parquet/loan_defaulters_rec/\n",
      "BV Loan Defaulters completed successfully\n"
     ]
    }
   ],
   "source": [
    "#run loan defaulters bv\n",
    "\n",
    "%run \"/home/itv004483/LendingClub/BV/BV_LoanDefaultersRec.ipynb\"\n",
    "\n",
    "bv_ldef_stat = ldef_stat\n",
    "if(bv_ldef_stat == \"Success\"):\n",
    "    print(\"BV Loan Defaulters completed successfully\")\n",
    "else:\n",
    "    print(\"BV Loan Defaulters failed\")"
   ]
  },
  {
   "cell_type": "code",
   "execution_count": 28,
   "id": "c4d3ace2",
   "metadata": {},
   "outputs": [],
   "source": [
    "endtime = dt.datetime.now().strftime('%Y-%m-%d_%H:%M:%S')\n",
    "addLog(\"\")\n",
    "addLog(\"Job end time \" + str(endtime))\n",
    "addLog(\"\")\n"
   ]
  },
  {
   "cell_type": "code",
   "execution_count": 29,
   "id": "02f7bcfc",
   "metadata": {},
   "outputs": [],
   "source": [
    "saveLog(logpath,logs)"
   ]
  },
  {
   "cell_type": "code",
   "execution_count": 5,
   "id": "11a6f08d",
   "metadata": {},
   "outputs": [],
   "source": [
    "spark.stop()"
   ]
  },
  {
   "cell_type": "code",
   "execution_count": 3,
   "id": "aee95d35",
   "metadata": {},
   "outputs": [],
   "source": []
  },
  {
   "cell_type": "code",
   "execution_count": 4,
   "id": "91d3da16",
   "metadata": {},
   "outputs": [
    {
     "name": "stdout",
     "output_type": "stream",
     "text": [
      "2024-01-10\n",
      "/user/itv004483/lendingClub/srv/2024-01-07/loan_defaulters/\n",
      "/user/itv004483/lendingClub/bv/csv/loan_defaulters_delinq/\n",
      "/user/itv004483/lendingClub/bv/parquet/loan_defaulters_rec/\n"
     ]
    }
   ],
   "source": []
  },
  {
   "cell_type": "code",
   "execution_count": 5,
   "id": "76fa8158",
   "metadata": {},
   "outputs": [],
   "source": []
  },
  {
   "cell_type": "code",
   "execution_count": 6,
   "id": "d9a9da39",
   "metadata": {},
   "outputs": [],
   "source": []
  },
  {
   "cell_type": "code",
   "execution_count": 8,
   "id": "dc6591e0",
   "metadata": {},
   "outputs": [],
   "source": []
  },
  {
   "cell_type": "code",
   "execution_count": 9,
   "id": "29032510",
   "metadata": {},
   "outputs": [],
   "source": []
  },
  {
   "cell_type": "code",
   "execution_count": 11,
   "id": "803efc80",
   "metadata": {},
   "outputs": [],
   "source": []
  },
  {
   "cell_type": "code",
   "execution_count": 14,
   "id": "a76869bc",
   "metadata": {},
   "outputs": [],
   "source": []
  },
  {
   "cell_type": "code",
   "execution_count": 15,
   "id": "18b30306",
   "metadata": {},
   "outputs": [],
   "source": []
  },
  {
   "cell_type": "code",
   "execution_count": 16,
   "id": "0f69eb35",
   "metadata": {},
   "outputs": [],
   "source": []
  },
  {
   "cell_type": "code",
   "execution_count": 15,
   "id": "1027ad87",
   "metadata": {},
   "outputs": [],
   "source": []
  },
  {
   "cell_type": "code",
   "execution_count": 16,
   "id": "93583fc0",
   "metadata": {},
   "outputs": [],
   "source": []
  },
  {
   "cell_type": "code",
   "execution_count": 17,
   "id": "48d5178f",
   "metadata": {},
   "outputs": [],
   "source": []
  },
  {
   "cell_type": "code",
   "execution_count": 18,
   "id": "728ccf76",
   "metadata": {},
   "outputs": [],
   "source": []
  },
  {
   "cell_type": "code",
   "execution_count": null,
   "id": "9d4b9e3b",
   "metadata": {},
   "outputs": [],
   "source": []
  }
 ],
 "metadata": {
  "kernelspec": {
   "display_name": "Pyspark 3",
   "language": "python",
   "name": "pyspark3"
  },
  "language_info": {
   "codemirror_mode": {
    "name": "ipython",
    "version": 3
   },
   "file_extension": ".py",
   "mimetype": "text/x-python",
   "name": "python",
   "nbconvert_exporter": "python",
   "pygments_lexer": "ipython3",
   "version": "3.6.12"
  }
 },
 "nbformat": 4,
 "nbformat_minor": 5
}
