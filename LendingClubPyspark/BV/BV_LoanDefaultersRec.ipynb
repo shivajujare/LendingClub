{
 "cells": [
  {
   "cell_type": "code",
   "execution_count": null,
   "id": "30d18c3e",
   "metadata": {},
   "outputs": [],
   "source": [
    "defaulter_schema=\"member_id string,delinq_2yrs float,delinq_amnt float,pub_rec float,pub_rec_bankruptcies float,inq_last_6mths float,total_rec_late_fee float,mths_since_last_delinq float,mths_since_last_record float\""
   ]
  },
  {
   "cell_type": "code",
   "execution_count": null,
   "id": "3420ac96",
   "metadata": {},
   "outputs": [],
   "source": [
    "srv_date = dt.datetime.now().strftime('%Y-%m-%d')\n",
    "print(srv_date)\n",
    "bv_lndf_Path = f\"/user/{user_name}/lendingClub/srv/2024-01-07/loan_defaulters/\"\n",
    "print(bv_lndf_Path)\n",
    "delinq_csv_dest = f\"/user/{user_name}/lendingClub/bv/csv/loan_defaulters_delinq/\"\n",
    "delinq_parq_dest = f\"/user/{user_name}/lendingClub/bv/parquet/loan_defaulters_delinq/\"\n",
    "\n",
    "rec_csv_dest = f\"/user/{user_name}/lendingClub/bv/csv/loan_defaulters_rec/\"\n",
    "rec_parq_dest = f\"/user/{user_name}/lendingClub/bv/parquet/loan_defaulters_rec/\"\n",
    "\n",
    "rec_enq_csv_dest = f\"/user/{user_name}/lendingClub/bv/csv/loan_defaulters_rec_enq/\"\n",
    "rec_enq_parq_dest = f\"/user/{user_name}/lendingClub/bv/parquet/loan_defaulters_rec_enq/\"\n",
    "\n",
    "print(delinq_csv_dest)\n",
    "print(rec_parq_dest)"
   ]
  },
  {
   "cell_type": "code",
   "execution_count": null,
   "id": "6cd12cad",
   "metadata": {},
   "outputs": [],
   "source": [
    "lndf_DF = spark.read \\\n",
    "            .format(\"csv\") \\\n",
    "            .option(\"header\", True) \\\n",
    "            .schema(defaulter_schema) \\\n",
    "            .option(\"path\", bv_lndf_Path) \\\n",
    "            .load()\n",
    "\n",
    "dl2y_DF = lndf_DF.withColumn(\"delinq_2yrs\",col(\"delinq_2yrs\").cast(\"integer\")).fillna(0,subset=[\"delinq_2yrs\"])\n",
    "pub_rec_DF = dl2y_DF.withColumn(\"pub_rec\",col(\"pub_rec\").cast(\"integer\")).fillna(0,subset=[\"pub_rec\"])\n",
    "bnkrp_DF = pub_rec_DF.withColumn(\"pub_rec_bankruptcies\",col(\"pub_rec_bankruptcies\").cast(\"integer\")).fillna(0,subset=[\"pub_rec_bankruptcies\"])\n",
    "mths_DF = bnkrp_DF.withColumn(\"inq_last_6mths\",col(\"inq_last_6mths\").cast(\"integer\")).fillna(0,subset=[\"inq_last_6mths\"])\n",
    "\n",
    "\n",
    "delinq_DF = mths_DF.select(\"member_id\", \"delinq_2yrs\", \"delinq_amnt\", col(\"mths_since_last_delinq\").cast(\"int\")) \\\n",
    "                    .filter((col(\"delinq_2yrs\") > 0) | (col(\"mths_since_last_delinq\")>0 ) )"
   ]
  },
  {
   "cell_type": "code",
   "execution_count": null,
   "id": "c236c982",
   "metadata": {},
   "outputs": [],
   "source": [
    "pub_rec = mths_DF.select(\"member_id\") \\\n",
    "                .filter( (col(\"pub_rec\")> 0.0) | \\\n",
    "                         (col(\"pub_rec_bankruptcies\") >0.0) | \\\n",
    "                         (col(\"inq_last_6mths\") > 0.0)\n",
    "                       )"
   ]
  },
  {
   "cell_type": "code",
   "execution_count": null,
   "id": "e20f2493",
   "metadata": {},
   "outputs": [],
   "source": [
    "pub_rec_enq_det = mths_DF.select(\"member_id\",\"pub_rec\",\"pub_rec_bankruptcies\",\"inq_last_6mths\") \\\n",
    "                .filter( (col(\"pub_rec\")> 0.0) | \\\n",
    "                         (col(\"pub_rec_bankruptcies\") >0.0) | \\\n",
    "                         (col(\"inq_last_6mths\") > 0.0)\n",
    "                       )"
   ]
  },
  {
   "cell_type": "code",
   "execution_count": null,
   "id": "161de50d",
   "metadata": {},
   "outputs": [],
   "source": [
    "delinq_DF.write \\\n",
    "        .format(\"csv\") \\\n",
    "        .option(\"header\", True) \\\n",
    "        .mode(\"overwrite\") \\\n",
    "        .option(\"path\", delinq_csv_dest) \\\n",
    "        .save()\n",
    "\n",
    "delinq_DF.write \\\n",
    "        .format(\"parquet\") \\\n",
    "        .option(\"header\", True) \\\n",
    "        .mode(\"overwrite\") \\\n",
    "        .option(\"path\", delinq_parq_dest) \\\n",
    "        .save()"
   ]
  },
  {
   "cell_type": "code",
   "execution_count": null,
   "id": "aa8c257b",
   "metadata": {},
   "outputs": [],
   "source": [
    "pub_rec.write \\\n",
    "        .format(\"csv\") \\\n",
    "        .option(\"header\", True) \\\n",
    "        .mode(\"overwrite\") \\\n",
    "        .option(\"path\", rec_csv_dest) \\\n",
    "        .save()\n",
    "\n",
    "pub_rec.write \\\n",
    "        .format(\"parquet\") \\\n",
    "        .option(\"header\", True) \\\n",
    "        .mode(\"overwrite\") \\\n",
    "        .option(\"path\", rec_parq_dest) \\\n",
    "        .save()\n",
    "\n"
   ]
  },
  {
   "cell_type": "code",
   "execution_count": null,
   "id": "a0fcb606",
   "metadata": {},
   "outputs": [],
   "source": [
    "pub_rec_enq_det.write \\\n",
    "        .format(\"csv\") \\\n",
    "        .option(\"header\", True) \\\n",
    "        .mode(\"overwrite\") \\\n",
    "        .option(\"path\", rec_enq_csv_dest) \\\n",
    "        .save()\n",
    "\n",
    "pub_rec_enq_det.write \\\n",
    "        .format(\"parquet\") \\\n",
    "        .option(\"header\", True) \\\n",
    "        .mode(\"overwrite\") \\\n",
    "        .option(\"path\", rec_enq_parq_dest) \\\n",
    "        .save()\n",
    "\n"
   ]
  },
  {
   "cell_type": "code",
   "execution_count": null,
   "id": "33ef1eaf",
   "metadata": {},
   "outputs": [],
   "source": [
    "csv_delinq_count = delinq_DF.count()\n",
    "addLog(\"ingested loan_defaulters_delinq file with \" + str(csv_delinq_count) + \" records in BV\")\n",
    "\n",
    "csv_rec_count = pub_rec.count()\n",
    "addLog(\"ingested loan_defaulters_rec file with \" + str(csv_rec_count) + \" records in BV\")"
   ]
  },
  {
   "cell_type": "code",
   "execution_count": null,
   "id": "08ae7b3a",
   "metadata": {},
   "outputs": [],
   "source": [
    "ldef_stat = \"Success\""
   ]
  }
 ],
 "metadata": {
  "kernelspec": {
   "display_name": "Pyspark 3",
   "language": "python",
   "name": "pyspark3"
  },
  "language_info": {
   "codemirror_mode": {
    "name": "ipython",
    "version": 3
   },
   "file_extension": ".py",
   "mimetype": "text/x-python",
   "name": "python",
   "nbconvert_exporter": "python",
   "pygments_lexer": "ipython3",
   "version": "3.6.12"
  }
 },
 "nbformat": 4,
 "nbformat_minor": 5
}
