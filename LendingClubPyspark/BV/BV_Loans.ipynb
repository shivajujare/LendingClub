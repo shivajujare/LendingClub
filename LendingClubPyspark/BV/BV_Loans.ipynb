{
 "cells": [
  {
   "cell_type": "code",
   "execution_count": null,
   "id": "44adbf2a",
   "metadata": {},
   "outputs": [],
   "source": [
    "from pyspark.sql.functions import col, current_timestamp,regexp_replace,when"
   ]
  },
  {
   "cell_type": "code",
   "execution_count": null,
   "id": "0e85012e",
   "metadata": {},
   "outputs": [],
   "source": [
    "loan_schema=\"loan_id string,member_id string,loan_amount float,funded_amnt float,loan_term_months string,interest_rate float,monthly_installment float,issue_date string,loan_status string,loan_purpose string,loan_title string\"\n",
    "\n",
    "columns_to_check=[\"loan_amount\",\"funded_amnt\",\"loan_term_months\",\"interest_rate\",\"monthly_installment\",\"issue_date\",\"loan_status\",\"loan_purpose\"]\n",
    "\n",
    "loan_purpose_lookup=[\"debt_consolidation\",\"credit_card\",\"home_improvement\",\"other\",\"major_purchase\",\"medical\",\"small_business\",\"car\",\"vacation\",\"moving\",\"house\",\"wedding\",\"renewable_energy\",\"educational\"]"
   ]
  },
  {
   "cell_type": "code",
   "execution_count": null,
   "id": "fef08222",
   "metadata": {},
   "outputs": [],
   "source": [
    "srv_date = dt.datetime.now().strftime('%Y-%m-%d')\n",
    "print(srv_date)\n",
    "loansPath = f\"/user/{user_name}/lendingClub/srv/2024-01-07/loans/\"\n",
    "print(loansPath)\n",
    "ln_csv_dest = f\"/user/{user_name}/lendingClub/bv/csv/loans/\"\n",
    "ln_parq_dest = f\"/user/{user_name}/lendingClub/bv/parquet/loans/\"\n",
    "print(ln_csv_dest)\n",
    "print(ln_parq_dest)"
   ]
  },
  {
   "cell_type": "code",
   "execution_count": null,
   "id": "3234fb2c",
   "metadata": {},
   "outputs": [],
   "source": [
    "ln_DF = spark.read \\\n",
    "            .format(\"csv\") \\\n",
    "            .schema(loan_schema) \\\n",
    "            .option(\"header\",True) \\\n",
    "            .option(\"path\",loansPath) \\\n",
    "            .load()\n",
    "\n",
    "id_DF = ln_DF.withColumn(\"ingest_date\", current_timestamp())\n",
    "\n",
    "drop_DF = id_DF.na.drop(subset= columns_to_check)"
   ]
  },
  {
   "cell_type": "code",
   "execution_count": null,
   "id": "9be6ebb5",
   "metadata": {},
   "outputs": [],
   "source": [
    "yr_DF = drop_DF.withColumn(\"loan_term_months\", (regexp_replace(\"loan_term_months\", \" months\", \"\").cast(\"float\")/12).cast(\"int\")) \\\n",
    "        .withColumnRenamed(\"loan_term_months\",\"loan_term_years\")\n",
    "\n",
    "purp_DF = yr_DF.withColumn(\"loan_purpose\", when(col(\"loan_purpose\").isin(loan_purpose_lookup), col(\"loan_purpose\")) \\\n",
    "                                            .otherwise(\"other\"))"
   ]
  },
  {
   "cell_type": "code",
   "execution_count": null,
   "id": "be5446d8",
   "metadata": {},
   "outputs": [],
   "source": [
    "loan_count = purp_DF.count()\n",
    "addLog(\"ingested loans file with \" + str(loan_count) + \" records in BV\")\n",
    "\n",
    "purp_DF.write \\\n",
    "        .format(\"csv\") \\\n",
    "        .option(\"header\", True) \\\n",
    "        .option(\"path\", ln_csv_dest) \\\n",
    "        .mode(\"overwrite\") \\\n",
    "        .save()\n",
    "\n",
    "purp_DF.write \\\n",
    "        .format(\"parquet\") \\\n",
    "        .option(\"header\", True) \\\n",
    "        .option(\"path\", ln_parq_dest) \\\n",
    "        .mode(\"overwrite\") \\\n",
    "        .save()"
   ]
  },
  {
   "cell_type": "code",
   "execution_count": null,
   "id": "097b647c",
   "metadata": {},
   "outputs": [],
   "source": [
    "loans_stat_bv = \"Success\""
   ]
  }
 ],
 "metadata": {
  "kernelspec": {
   "display_name": "Pyspark 3",
   "language": "python",
   "name": "pyspark3"
  },
  "language_info": {
   "codemirror_mode": {
    "name": "ipython",
    "version": 3
   },
   "file_extension": ".py",
   "mimetype": "text/x-python",
   "name": "python",
   "nbconvert_exporter": "python",
   "pygments_lexer": "ipython3",
   "version": "3.6.12"
  }
 },
 "nbformat": 4,
 "nbformat_minor": 5
}
