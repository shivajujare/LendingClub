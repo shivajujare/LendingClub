{
 "cells": [
  {
   "cell_type": "code",
   "execution_count": null,
   "id": "ba5846c7",
   "metadata": {},
   "outputs": [],
   "source": [
    "from pyspark.sql.functions import col, current_timestamp,regexp_replace,when"
   ]
  },
  {
   "cell_type": "code",
   "execution_count": null,
   "id": "d5a2a33f",
   "metadata": {},
   "outputs": [],
   "source": [
    "loan_repay_schema=\"loan_id string,total_principle_received float,total_interest_received float,total_late_fee_received float,total_payment_received float,last_payment_amount float,last_payment_date string,next_payment_date string\"\n",
    "\n",
    "columns_to_check=[\"total_principle_received\",\"total_interest_received\",\"total_late_fee_received\",\"total_payment_received\",\"last_payment_amount\"]"
   ]
  },
  {
   "cell_type": "code",
   "execution_count": null,
   "id": "2b3c74f4",
   "metadata": {},
   "outputs": [],
   "source": [
    "srv_date = dt.datetime.now().strftime('%Y-%m-%d')\n",
    "print(srv_date)\n",
    "srv_lnrp_Path = f\"/user/{user_name}/lendingClub/srv/2024-01-07/loan_repayments/\"\n",
    "print(bv_lnrp_Path)\n",
    "lrp_csv_dest = f\"/user/{user_name}/lendingClub/bv/csv/loan_repayments/\"\n",
    "lrp_parq_dest = f\"/user/{user_name}/lendingClub/bv/parquet/loan_repayments\"\n",
    "print(lrp_csv_dest)\n",
    "print(lrp_parq_dest)"
   ]
  },
  {
   "cell_type": "code",
   "execution_count": null,
   "id": "ea91e7d9",
   "metadata": {},
   "outputs": [],
   "source": [
    "lrp_DF = spark.read \\\n",
    "                .format(\"csv\") \\\n",
    "                .option(\"header\",True) \\\n",
    "                .schema(loan_repay_schema) \\\n",
    "                .option(\"path\", srv_lnrp_Path) \\\n",
    "                .load()\n",
    "\n",
    "id_lrp_DF = lrp_DF.withColumn(\"ingest_date\", current_timestamp())\n",
    "\n",
    "drop_lrp_DF = id_lrp_DF.na.drop(subset=columns_to_check)"
   ]
  },
  {
   "cell_type": "code",
   "execution_count": null,
   "id": "c72a6620",
   "metadata": {},
   "outputs": [],
   "source": [
    "tpr_DF = drop_lrp_DF \\\n",
    "        .withColumn(\"total_payment_received\", \\\n",
    "                    when(\n",
    "                        (col(\"total_payment_received\") == 0.0) & (col(\"total_payment_received\")!= 0.0) \\\n",
    "                        , col(\"total_principle_received\")+col(\"total_interest_received\")+col(\"total_late_fee_received\")) \\\n",
    "                    .otherwise(col(\"total_payment_received\")))\n",
    "\n",
    "not_null_tpr = tpr_DF.filter(col(\"total_payment_received\") !=0.0)"
   ]
  },
  {
   "cell_type": "code",
   "execution_count": null,
   "id": "f0b92b44",
   "metadata": {},
   "outputs": [],
   "source": [
    "lpd_DF = not_null_tpr.withColumn(\"last_payment_date\", when(col(\"last_payment_date\") == 0.0, None) \\\n",
    "                                                        .otherwise(col(\"last_payment_date\"))\n",
    "                                ) \\\n",
    "                      .withColumn(\"next_payment_date\", when(col(\"next_payment_date\") == 0.0, None) \\\n",
    "                                                        .otherwise(col(\"next_payment_date\"))\n",
    "                                )\n",
    "\n",
    "csv_lrp_count = lpd_DF.count()\n",
    "addLog(\"ingested loan_repayments file with \" + str(csv_lrp_count) + \" records in BV\")"
   ]
  },
  {
   "cell_type": "code",
   "execution_count": null,
   "id": "9c18b5a4",
   "metadata": {},
   "outputs": [],
   "source": [
    "lpd_DF.write \\\n",
    "        .format(\"csv\") \\\n",
    "        .mode(\"overwrite\") \\\n",
    "        .option(\"header\",True) \\\n",
    "        .option(\"path\", lrp_csv_dest) \\\n",
    "        .save()\n",
    "\n",
    "lpd_DF.write \\\n",
    "        .format(\"csv\") \\\n",
    "        .mode(\"overwrite\") \\\n",
    "        .option(\"header\",True) \\\n",
    "        .option(\"path\", lrp_parq_dest) \\\n",
    "        .save()"
   ]
  },
  {
   "cell_type": "code",
   "execution_count": null,
   "id": "de16daff",
   "metadata": {},
   "outputs": [],
   "source": [
    "bv_lrp_stat = \"Success\""
   ]
  }
 ],
 "metadata": {
  "kernelspec": {
   "display_name": "Pyspark 3",
   "language": "python",
   "name": "pyspark3"
  },
  "language_info": {
   "codemirror_mode": {
    "name": "ipython",
    "version": 3
   },
   "file_extension": ".py",
   "mimetype": "text/x-python",
   "name": "python",
   "nbconvert_exporter": "python",
   "pygments_lexer": "ipython3",
   "version": "3.6.12"
  }
 },
 "nbformat": 4,
 "nbformat_minor": 5
}
