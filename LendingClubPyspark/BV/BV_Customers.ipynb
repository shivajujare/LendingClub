{
 "cells": [
  {
   "cell_type": "code",
   "execution_count": 1,
   "id": "5a0847d0",
   "metadata": {},
   "outputs": [],
   "source": [
    "from pyspark.sql.functions import col, sha2, concat_ws, current_timestamp,regexp_replace, avg,when, length"
   ]
  },
  {
   "cell_type": "code",
   "execution_count": 3,
   "id": "6f389530",
   "metadata": {},
   "outputs": [],
   "source": [
    "customer_schema='member_id string,emp_title string,emp_length string,home_ownership string,annual_inc float,addr_state string,zip_code string,country string,grade string,sub_grade  string,verification_status string,tot_hi_cred_lim float,application_type string,annual_inc_joint float,verification_status_joint string'"
   ]
  },
  {
   "cell_type": "code",
   "execution_count": null,
   "id": "82103ac4",
   "metadata": {},
   "outputs": [],
   "source": [
    "srv_date = dt.datetime.now().strftime('%Y-%m-%d')\n",
    "print(srv_date)\n",
    "custPath = f\"/user/{user_name}/lendingClub/srv/2024-01-07/customers/\"\n",
    "print(custPath)\n",
    "csv_dest = f\"/user/{user_name}/lendingClub/bv/csv/customers/\"\n",
    "parq_dest = f\"/user/{user_name}/lendingClub/bv/parquet/customers\"\n",
    "print(csv_dest)\n",
    "print(parq_dest)"
   ]
  },
  {
   "cell_type": "code",
   "execution_count": null,
   "id": "6fe3da84",
   "metadata": {},
   "outputs": [],
   "source": [
    "custDF = spark.read \\\n",
    "            .format(\"csv\") \\\n",
    "            .option(\"inferSchema\",True) \\\n",
    "            .option(\"header\",True) \\\n",
    "            .option(\"path\",custPath) \\\n",
    "            .load()"
   ]
  },
  {
   "cell_type": "code",
   "execution_count": null,
   "id": "f35fce0c",
   "metadata": {},
   "outputs": [],
   "source": [
    "rn_custDF = custDF.withColumnRenamed(\"annual_inc\",\"annual_income\") \\\n",
    "                    .withColumnRenamed(\"addr_state\",\"address_state\") \\\n",
    "                    .withColumnRenamed(\"zip_code\",\"address_zipcode\") \\\n",
    "                    .withColumnRenamed(\"country\",\"address_country\") \\\n",
    "                    .withColumnRenamed(\"tot_hi_cred_lim\",\"total_high_credit_limit\") \\\n",
    "                    .withColumnRenamed(\"annual_inc_joint\",\"join_annual_income\")"
   ]
  },
  {
   "cell_type": "code",
   "execution_count": null,
   "id": "9d439b6e",
   "metadata": {},
   "outputs": [],
   "source": [
    "id_DF = rn_custDF.withColumn(\"ingest_date\",current_timestamp())\n"
   ]
  },
  {
   "cell_type": "code",
   "execution_count": null,
   "id": "8102d5ae",
   "metadata": {},
   "outputs": [],
   "source": [
    "un_custDF = id_DF.dropDuplicates()\n",
    "fil_custDF = un_custDF.dropna(subset=[\"annual_income\"])\n",
    "emp_len_custDF = fil_custDF.withColumn(\"emp_length\",regexp_replace(col(\"emp_length\"),\"(\\D)\",\"\").cast(\"int\"))\n"
   ]
  },
  {
   "cell_type": "code",
   "execution_count": null,
   "id": "b133215d",
   "metadata": {},
   "outputs": [],
   "source": [
    "avg_emp_len = emp_len_custDF.select(avg(\"emp_length\").cast(\"int\")).collect()\n",
    "avg_emp_ln = avg_emp_len[0][0]\n"
   ]
  },
  {
   "cell_type": "code",
   "execution_count": null,
   "id": "268de5bb",
   "metadata": {},
   "outputs": [],
   "source": [
    "avg_el_DF = emp_len_custDF.na.fill(avg_emp_ln,subset=[\"emp_length\"])"
   ]
  },
  {
   "cell_type": "code",
   "execution_count": null,
   "id": "bcce5411",
   "metadata": {},
   "outputs": [],
   "source": [
    "as_DF = avg_el_DF.withColumn(\"address_state\", when (length(col(\"address_state\"))> 2, \"NA\") \\\n",
    "                                        .otherwise(col(\"address_state\"))\n",
    "                    )"
   ]
  },
  {
   "cell_type": "code",
   "execution_count": null,
   "id": "813f5a0a",
   "metadata": {},
   "outputs": [],
   "source": [
    "as_DF.write \\\n",
    "        .format(\"csv\") \\\n",
    "        .mode(\"overwrite\") \\\n",
    "        .option(\"header\",True) \\\n",
    "        .option(\"path\", csv_dest) \\\n",
    "        .save()\n",
    "\n",
    "csv_cust_count = as_DF.count()\n",
    "addLog(\"ingested customers file with \" + str(csv_cust_count) + \" records in BV\")"
   ]
  },
  {
   "cell_type": "code",
   "execution_count": null,
   "id": "93f6c94d",
   "metadata": {},
   "outputs": [],
   "source": [
    "as_DF.write \\\n",
    "        .format(\"parquet\") \\\n",
    "        .option(\"header\",True) \\\n",
    "        .option(\"path\", parq_dest) \\\n",
    "        .mode(\"overwrite\") \\\n",
    "        .save()"
   ]
  },
  {
   "cell_type": "code",
   "execution_count": null,
   "id": "5551b63d",
   "metadata": {},
   "outputs": [],
   "source": [
    "cust_stat = \"Success\""
   ]
  }
 ],
 "metadata": {
  "kernelspec": {
   "display_name": "Pyspark 3",
   "language": "python",
   "name": "pyspark3"
  },
  "language_info": {
   "codemirror_mode": {
    "name": "ipython",
    "version": 3
   },
   "file_extension": ".py",
   "mimetype": "text/x-python",
   "name": "python",
   "nbconvert_exporter": "python",
   "pygments_lexer": "ipython3",
   "version": "3.6.12"
  }
 },
 "nbformat": 4,
 "nbformat_minor": 5
}
