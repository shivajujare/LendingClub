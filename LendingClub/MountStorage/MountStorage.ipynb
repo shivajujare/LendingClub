{
 "cells": [
  {
   "cell_type": "code",
   "execution_count": null,
   "id": "5864b63c",
   "metadata": {},
   "outputs": [],
   "source": [
    "dbutils.secrets.help()\n",
    "\n",
    "dbutils.secrets.listScopes()\n"
   ]
  },
  {
   "cell_type": "code",
   "execution_count": null,
   "id": "b69e3535",
   "metadata": {},
   "outputs": [],
   "source": [
    "storage_account_name = \"datasetbigdata\"\n",
    "client_id            = dbutils.secrets.get(scope=\"test-secret-scope\", key=\"databricks-secret-client-id\")\n",
    "tenant_id            = dbutils.secrets.get(scope=\"test-secret-scope\", key=\"databricks-secret-tenant-id\")\n",
    "client_secret        = dbutils.secrets.get(scope=\"test-secret-scope\", key=\"databricks-secret-secret-id\")\n",
    "\n",
    "configs = {\"fs.azure.account.auth.type\": \"OAuth\",\n",
    "           \"fs.azure.account.oauth.provider.type\": \"org.apache.hadoop.fs.azurebfs.oauth2.ClientCredsTokenProvider\",\n",
    "           \"fs.azure.account.oauth2.client.id\": f\"{client_id}\",\n",
    "           \"fs.azure.account.oauth2.client.secret\": f\"{client_secret}\",\n",
    "           \"fs.azure.account.oauth2.client.endpoint\": f\"https://login.microsoftonline.com/{tenant_id}/oauth2/token\"}\n",
    "def mount_adls(container_name):\n",
    "  dbutils.fs.mount(\n",
    "    source = f\"abfss://{container_name}@{storage_account_name}.dfs.core.windows.net/\",\n",
    "    mount_point = f\"/mnt/{storage_account_name}/{container_name}\",\n",
    "    extra_configs = configs)\n"
   ]
  },
  {
   "cell_type": "code",
   "execution_count": null,
   "id": "37802e64",
   "metadata": {},
   "outputs": [],
   "source": [
    "#mounting the container created to store the raw files \n",
    "mount_adls(\"raw-data\")\n",
    "\n",
    "dbutils.fs.mounts()\n",
    "\n",
    "dbutils.fs.ls(\"/mnt/datasetbigdata/raw-data/lending_loan/\")\n",
    "\n",
    "#to unmount the container created\n",
    "dbutils.fs.unmount(\"/mnt/datasetbigdata/raw-data\")"
   ]
  }
 ],
 "metadata": {
  "kernelspec": {
   "display_name": "Pyspark 3",
   "language": "python",
   "name": "pyspark3"
  },
  "language_info": {
   "codemirror_mode": {
    "name": "ipython",
    "version": 3
   },
   "file_extension": ".py",
   "mimetype": "text/x-python",
   "name": "python",
   "nbconvert_exporter": "python",
   "pygments_lexer": "ipython3",
   "version": "3.6.12"
  }
 },
 "nbformat": 4,
 "nbformat_minor": 5
}
