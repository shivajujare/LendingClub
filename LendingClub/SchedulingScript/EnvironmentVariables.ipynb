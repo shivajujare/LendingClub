{
 "cells": [
  {
   "cell_type": "code",
   "execution_count": 3,
   "id": "26f2a2a7",
   "metadata": {},
   "outputs": [],
   "source": [
    "#Environment Variables"
   ]
  },
  {
   "cell_type": "code",
   "execution_count": 4,
   "id": "39e85077",
   "metadata": {},
   "outputs": [],
   "source": [
    "raw_files=\"/mnt/datasetbigdata/raw-data/lending_loan/\"\n",
    "\n",
    "source_file=\"/mnt/datasetbigdata/processed-data/pre-prod/lending_loan/\"\n",
    "\n",
    "cleanedScript_folder_path=\"/Users/sivajujare@outlook.com/Lending_Loans/Data-Cleaning/\"  \n",
    "\n",
    "cleaned_files=\"/mnt/datasetbigdata/cleaned-data/lending_loan/\"\n",
    "\n",
    "dbfs_file_path=\"/FileStore/tables/\"\n"
   ]
  },
  {
   "cell_type": "code",
   "execution_count": 5,
   "id": "7f3b85c1",
   "metadata": {},
   "outputs": [],
   "source": [
    "from pyspark.sql.functions import current_timestamp\n",
    " \n",
    "def ingest_date(input_df):\n",
    "    date_df=input_df.withColumn(\"ingest_date\",current_timestamp())\n",
    "    return date_df"
   ]
  },
  {
   "cell_type": "code",
   "execution_count": null,
   "id": "f7205fe7",
   "metadata": {},
   "outputs": [],
   "source": []
  }
 ],
 "metadata": {
  "kernelspec": {
   "display_name": "Pyspark 3",
   "language": "python",
   "name": "pyspark3"
  },
  "language_info": {
   "codemirror_mode": {
    "name": "ipython",
    "version": 3
   },
   "file_extension": ".py",
   "mimetype": "text/x-python",
   "name": "python",
   "nbconvert_exporter": "python",
   "pygments_lexer": "ipython3",
   "version": "3.6.12"
  }
 },
 "nbformat": 4,
 "nbformat_minor": 5
}
