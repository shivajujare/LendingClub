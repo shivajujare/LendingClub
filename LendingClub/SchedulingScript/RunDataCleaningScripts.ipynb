{
 "cells": [
  {
   "cell_type": "code",
   "execution_count": null,
   "id": "8d3099ed",
   "metadata": {},
   "outputs": [],
   "source": [
    "#call environment variables file\n",
    "\n",
    "%run \"/Users/sivajujare@outlook.com/config_files/Env_config\""
   ]
  },
  {
   "cell_type": "code",
   "execution_count": null,
   "id": "bd98c872",
   "metadata": {},
   "outputs": [],
   "source": [
    "status_customers=dbutils.notebook.run(f\"{cleanedScript_folder_path}Data Cleaning Customers\",0)\n",
    "\n",
    "if (status_customers == \"executed customers job\"):\n",
    "    print(\"customers job completed successfully\")\n"
   ]
  },
  {
   "cell_type": "code",
   "execution_count": null,
   "id": "97873eb1",
   "metadata": {},
   "outputs": [],
   "source": [
    "\n",
    "status_loan=dbutils.notebook.run(f\"{cleanedScript_folder_path}Data Cleaning Loan\",0)\n",
    "\n",
    "if (status_loan == \"executed loan job\"):\n",
    "    print(\"Lending loan job completed successfully\")\n"
   ]
  },
  {
   "cell_type": "code",
   "execution_count": null,
   "id": "964a5326",
   "metadata": {},
   "outputs": [],
   "source": [
    "status_loan=dbutils.notebook.run(f\"{cleanedScript_folder_path}Data Cleaning Account\",0)\n",
    "\n",
    "if (status_loan == \"executed account job\"):\n",
    "    print(\"Lending loan account job completed successfully\")\n"
   ]
  },
  {
   "cell_type": "code",
   "execution_count": null,
   "id": "c341540d",
   "metadata": {},
   "outputs": [],
   "source": [
    "status_loan=dbutils.notebook.run(f\"{cleanedScript_folder_path}Data Cleaning Loan Defaulters\",0)\n",
    "\n",
    "if (status_loan == \"executed loan defaulters job\"):\n",
    "    print(\"Lending loan defaulters job completed successfully\")\n"
   ]
  },
  {
   "cell_type": "code",
   "execution_count": null,
   "id": "163ec180",
   "metadata": {},
   "outputs": [],
   "source": [
    "status_loan=dbutils.notebook.run(f\"{cleanedScript_folder_path}Data Cleaning Payments\",0)\n",
    "\n",
    "if (status_loan == \"executed payments job\"):\n",
    "    print(\"Lending loan payments job completed successfully\")\n"
   ]
  },
  {
   "cell_type": "code",
   "execution_count": null,
   "id": "0daaccae",
   "metadata": {},
   "outputs": [],
   "source": [
    "status_loan=dbutils.notebook.run(f\"{cleanedScript_folder_path}Data Cleaning Investors\",0)\n",
    "\n",
    "if (status_loan == \"executed investors job\"):\n",
    "    print(\"Lending loan investors job completed successfully\")\n"
   ]
  }
 ],
 "metadata": {
  "kernelspec": {
   "display_name": "Pyspark 3",
   "language": "python",
   "name": "pyspark3"
  },
  "language_info": {
   "codemirror_mode": {
    "name": "ipython",
    "version": 3
   },
   "file_extension": ".py",
   "mimetype": "text/x-python",
   "name": "python",
   "nbconvert_exporter": "python",
   "pygments_lexer": "ipython3",
   "version": "3.6.12"
  }
 },
 "nbformat": 4,
 "nbformat_minor": 5
}
