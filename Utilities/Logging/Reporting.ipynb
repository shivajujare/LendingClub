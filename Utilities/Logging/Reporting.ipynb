{
 "cells": [
  {
   "cell_type": "code",
   "execution_count": 1,
   "id": "c0dc5193",
   "metadata": {},
   "outputs": [],
   "source": [
    "from pyspark.sql import SparkSession\n",
    "import getpass\n",
    "import datetime as dt"
   ]
  },
  {
   "cell_type": "code",
   "execution_count": 3,
   "id": "b8b33e92",
   "metadata": {},
   "outputs": [
    {
     "name": "stdout",
     "output_type": "stream",
     "text": [
      "/home/itv004483/Reporting/report_2024-01-04_20:35:24.txt\n",
      "2024-01-04\n"
     ]
    }
   ],
   "source": [
    "dts = dt.datetime.now().strftime('%Y-%m-%d_%H:%M:%S')\n",
    "date = dt.datetime.now().strftime('%Y-%m-%d')\n",
    "filepath = f\"/home/itv004483/Reporting/report_{dts}.txt\"\n",
    "print(filepath)\n",
    "print(date)"
   ]
  },
  {
   "cell_type": "code",
   "execution_count": 97,
   "id": "a51f6f25",
   "metadata": {},
   "outputs": [],
   "source": [
    "logs = []"
   ]
  },
  {
   "cell_type": "code",
   "execution_count": 21,
   "id": "ecbf979e",
   "metadata": {},
   "outputs": [],
   "source": [
    "def addLog(log):\n",
    "    logs.append(log)\n"
   ]
  },
  {
   "cell_type": "code",
   "execution_count": 71,
   "id": "1b6d1119",
   "metadata": {},
   "outputs": [],
   "source": [
    "def saveLog(path,log):\n",
    "    with open(path, mode='w', encoding='utf-8') as myfile:\n",
    "        myfile.write('\\n'.join(log))"
   ]
  },
  {
   "cell_type": "code",
   "execution_count": 2,
   "id": "d7ff2c81",
   "metadata": {},
   "outputs": [],
   "source": [
    "def addSparkOptions(spark: SparkSession):\n",
    "    addLog(f\"App Name - {spark.sparkContext.appName}\")\n",
    "    addLog(f\"Application ID - {spark.sparkContext.applicationId}\")\n",
    "    addLog(\"\")"
   ]
  },
  {
   "cell_type": "code",
   "execution_count": 99,
   "id": "bd96fd01",
   "metadata": {},
   "outputs": [],
   "source": []
  },
  {
   "cell_type": "code",
   "execution_count": null,
   "id": "e23cad42",
   "metadata": {},
   "outputs": [],
   "source": []
  },
  {
   "cell_type": "code",
   "execution_count": 70,
   "id": "2014b4d7",
   "metadata": {},
   "outputs": [],
   "source": []
  },
  {
   "cell_type": "code",
   "execution_count": 69,
   "id": "f6d2a1b4",
   "metadata": {},
   "outputs": [],
   "source": []
  },
  {
   "cell_type": "code",
   "execution_count": null,
   "id": "e405d290",
   "metadata": {},
   "outputs": [],
   "source": []
  }
 ],
 "metadata": {
  "kernelspec": {
   "display_name": "Pyspark 3",
   "language": "python",
   "name": "pyspark3"
  },
  "language_info": {
   "codemirror_mode": {
    "name": "ipython",
    "version": 3
   },
   "file_extension": ".py",
   "mimetype": "text/x-python",
   "name": "python",
   "nbconvert_exporter": "python",
   "pygments_lexer": "ipython3",
   "version": "3.6.12"
  }
 },
 "nbformat": 4,
 "nbformat_minor": 5
}
